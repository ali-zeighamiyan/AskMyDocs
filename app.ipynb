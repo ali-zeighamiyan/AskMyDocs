{
 "cells": [
  {
   "cell_type": "code",
   "execution_count": 1,
   "metadata": {},
   "outputs": [],
   "source": [
    "\n",
    "from langchain.storage import InMemoryByteStore\n",
    "# from langchain_chroma import Chroma\n",
    "from langchain_community.document_loaders import TextLoader, PyPDFLoader\n",
    "from langchain_cohere import CohereEmbeddings\n",
    "\n",
    "from langchain_text_splitters import RecursiveCharacterTextSplitter\n",
    "from langchain.vectorstores import FAISS\n",
    "from operator import itemgetter\n",
    "from langchain_core.prompts import ChatPromptTemplate, MessagesPlaceholder\n",
    "from langchain_core.runnables import RunnableParallel, RunnablePassthrough\n",
    "from langchain_core.output_parsers import StrOutputParser\n",
    "from langchain_groq import ChatGroq\n",
    "from dotenv import load_dotenv\n",
    "import os\n",
    "\n",
    "load_dotenv()\n",
    "groq_api_key = os.getenv(\"Groq_API_KEY\")\n",
    "cohere_api_key = os.getenv(\"Cohere_API_KEY\")"
   ]
  },
  {
   "cell_type": "code",
   "execution_count": 2,
   "metadata": {},
   "outputs": [],
   "source": [
    "embeddings = CohereEmbeddings(model=\"embed-english-light-v3.0\")"
   ]
  },
  {
   "cell_type": "code",
   "execution_count": 2,
   "metadata": {},
   "outputs": [],
   "source": [
    "pdf_loader = PyPDFLoader(\"BTS_Base_Transciever_Station_Structure_I.pdf\")\n",
    "documents = pdf_loader.load()"
   ]
  },
  {
   "cell_type": "code",
   "execution_count": 19,
   "metadata": {},
   "outputs": [],
   "source": [
    "pdf_loader = TextLoader(\"C:\\\\Users\\\\alizeighamiyan\\\\Desktop\\\\genai_bootcamp_daneshkar\\\\tests\\\\test3\\\\readme.txt\")\n",
    "documents = pdf_loader.load()"
   ]
  },
  {
   "cell_type": "code",
   "execution_count": 22,
   "metadata": {},
   "outputs": [],
   "source": [
    "import ntpath\n",
    "documents[0].metadata[\"source\"] = ntpath.basename(documents[0].metadata[\"source\"])"
   ]
  },
  {
   "cell_type": "code",
   "execution_count": 23,
   "metadata": {},
   "outputs": [
    {
     "data": {
      "text/plain": [
       "[Document(metadata={'source': 'readme.txt'}, page_content='this .ipynb files has ran on google colab and then downloaded to local')]"
      ]
     },
     "execution_count": 23,
     "metadata": {},
     "output_type": "execute_result"
    }
   ],
   "source": [
    "documents"
   ]
  },
  {
   "cell_type": "code",
   "execution_count": 20,
   "metadata": {},
   "outputs": [
    {
     "data": {
      "text/plain": [
       "'C:\\\\Users\\\\alizeighamiyan\\\\Desktop\\\\genai_bootcamp_daneshkar\\\\tests\\\\test3\\\\readme.txt'"
      ]
     },
     "execution_count": 20,
     "metadata": {},
     "output_type": "execute_result"
    }
   ],
   "source": [
    "documents[0].metadata[\"source\"]"
   ]
  },
  {
   "cell_type": "code",
   "execution_count": 18,
   "metadata": {},
   "outputs": [],
   "source": [
    "lens = []\n",
    "for doc in documents:\n",
    "    lens.append(len(doc.page_content))\n"
   ]
  },
  {
   "cell_type": "code",
   "execution_count": 5,
   "metadata": {},
   "outputs": [
    {
     "data": {
      "text/plain": [
       "2482"
      ]
     },
     "execution_count": 5,
     "metadata": {},
     "output_type": "execute_result"
    }
   ],
   "source": [
    "max(lens)"
   ]
  },
  {
   "cell_type": "code",
   "execution_count": 6,
   "metadata": {},
   "outputs": [
    {
     "name": "stdout",
     "output_type": "stream",
     "text": [
      "8 \n",
      " \n",
      " \n",
      " \n",
      "    \n",
      " \n",
      "Fig1: Legacy BTS (cell site). Radio tower and BTS equipment used in a typical cell site \n",
      "location. \n",
      " \n",
      " \n",
      "                                 Figure 2. Distributed BTS Architecture\n"
     ]
    }
   ],
   "source": [
    "print(documents[7].page_content)"
   ]
  },
  {
   "cell_type": "code",
   "execution_count": 5,
   "metadata": {},
   "outputs": [],
   "source": [
    "text_splitter = RecursiveCharacterTextSplitter(chunk_size=2000, chunk_overlap=200)\n",
    "text_chunks = text_splitter.split_documents(documents)"
   ]
  },
  {
   "cell_type": "code",
   "execution_count": 20,
   "metadata": {},
   "outputs": [
    {
     "data": {
      "text/plain": [
       "1508"
      ]
     },
     "execution_count": 20,
     "metadata": {},
     "output_type": "execute_result"
    }
   ],
   "source": [
    "len(text_chunks[5].page_content)"
   ]
  },
  {
   "cell_type": "code",
   "execution_count": 9,
   "metadata": {},
   "outputs": [
    {
     "data": {
      "text/plain": [
       "90"
      ]
     },
     "execution_count": 9,
     "metadata": {},
     "output_type": "execute_result"
    }
   ],
   "source": [
    "len(text_chunks)"
   ]
  },
  {
   "cell_type": "code",
   "execution_count": 10,
   "metadata": {},
   "outputs": [
    {
     "data": {
      "text/plain": [
       "Document(metadata={'producer': 'GPL Ghostscript 9.10', 'creator': '', 'creationdate': '2016-08-27T11:06:04-07:00', 'moddate': '2016-08-27T11:06:04-07:00', 'title': '', 'author': '', 'subject': '', 'keywords': '', 'source': 'BTS_Base_Transciever_Station_Structure_I.pdf', 'total_pages': 79, 'page': 1, 'page_label': '2'}, page_content='2 \\n \\n \\n \\nTABLE OF CONTENTS \\n \\nCHAPTER 01 INTRODUCTION \\n1.1 INTRODUCTION   ………………………………………………………….       07 \\nCHAPTER 02 BTS EQUIPMENT \\n2.1 Indoor Macro Base Station…………………………………………………...      11 \\n2.2 Contents………………………………………………………………………..       11 \\n2.3 BTS system overview………………………………………………………….        11 \\n2.4 Component of BTS……………………………………………………………        12 \\n2.5 BTS Cabinet…………………………………………………………………...         12 \\n2.6 BTS Features…………………………………………………………………..       13 \\n2.7 BBU Hardware Structure……………………………………………………..       13      \\n2.7.1 Logical Structure of BBU……………………………………………………      14 \\n2.7.2 Board configuration of BBU…………………………………………………     14 \\n2.7.3 GTMU …………………………………………………………………………     15 \\n2.7.4 WMPT …………………………………………………………………………     16 \\n2.7.5 WBBP …………………………………………………………………………    17 \\n2.7.6 UBFA…………………………………………………………………………..    18 \\n2.7.7 UPEU…………………………………………………………………………..    19 \\n2.7.8 Optional Boards……………………………………………………………….     20 \\n2.8 RFU & RRU Hardware Structure……………………………………………..    21 \\n2.8.1.1 Appearance of the MRFU…………………………………………………..    21 \\n2.8.1.2 Logical Structure of the MRFU…………………………………………….    21 \\n2.8.1.3 Ports on the MRFU………………………………………………………….   22 \\n2.8.2.1 Appearance of the WRFU………………………………………………… ..   22 \\n2.8.2.2 Logical Structure of the WRFU……………………………………………     23 \\n2.8.2.3 Ports on the WRFU………………………………………………………         23')"
      ]
     },
     "execution_count": 10,
     "metadata": {},
     "output_type": "execute_result"
    }
   ],
   "source": [
    "text_chunks[1]"
   ]
  },
  {
   "cell_type": "code",
   "execution_count": 6,
   "metadata": {},
   "outputs": [],
   "source": [
    "db = FAISS.from_documents(text_chunks, embeddings)"
   ]
  },
  {
   "cell_type": "code",
   "execution_count": 7,
   "metadata": {},
   "outputs": [],
   "source": [
    "retriever = db.as_retriever(search_kwargs={\"k\": 5})"
   ]
  },
  {
   "cell_type": "code",
   "execution_count": 8,
   "metadata": {},
   "outputs": [],
   "source": [
    "run = itemgetter(\"question\") | retriever\n",
    "answers = run.invoke({'question': \"what is bts?\"})"
   ]
  },
  {
   "cell_type": "code",
   "execution_count": 9,
   "metadata": {},
   "outputs": [
    {
     "name": "stdout",
     "output_type": "stream",
     "text": [
      "67 \n",
      " \n",
      " \n",
      " \n",
      " The BTS, commonly known as 'network tower', requires a large amount of money \n",
      "and manpower for maintenance, they added. \n",
      " \n",
      " Meanwhile, Robi has sought permission from the telecom regulatory body to hand \n",
      "over the maintenance work of its BTS to any associate organisation, according to \n",
      "the officials. \n",
      " The regulator--Bangladesh Telecommunication Regulatory Commission (BTRC) \n",
      "-- in principle has supported the operators' plea and is scrutinising the existing law \n",
      "to find out a way for the job.  \n",
      " The commission is considering allowing the operators' move to shift the BTS \n",
      "maintenance to associated bodies or third parties as they (operators) want to come \n",
      "out of the complexities of tower maintenance,\" Chairman of the regulatory body \n",
      "Major General (retd) Zia Ahmed told BSS. \n",
      " He said the operators have no option to take the initiative of BTS handover \n",
      "without the regulator's permission. \n",
      " So, the BTRC is looking for an option as to how the operators can hand over their \n",
      "BTS maintenance under the existing law, Mr Ahmed said. \n",
      " He, however, said that a separate policy should be formulated for the tower \n",
      "maintenance, as the section 35 of Telecommunication Act-2010 says that an \n",
      "operator cannot construct and operate any telecommunication infrastructure for \n",
      "providing services without licence. \n",
      " Officials said the system of BTS maintenance by a third party is existent in many \n",
      "countries globally. \n",
      " The operators of those countries take BTS services from the service providing \n",
      "organisations. Several operators can take services from a BTS that may save land \n",
      "and power. \n",
      " Talking to the news agency, Mahmudur Rahman, executive vice-president of \n",
      "Robi Axiata Limited, said the number of BTSs is increasing cumulatively with \n",
      "the expansion of network that also requires a large amount of money and \n",
      "manpower for maintenance.\n"
     ]
    }
   ],
   "source": [
    "print(answers[4].page_content)"
   ]
  },
  {
   "cell_type": "code",
   "execution_count": 10,
   "metadata": {},
   "outputs": [],
   "source": [
    "llm = ChatGroq(temperature=0, model_name=\"llama-3.3-70b-specdec\")"
   ]
  },
  {
   "cell_type": "code",
   "execution_count": 11,
   "metadata": {},
   "outputs": [],
   "source": [
    "prompt = ChatPromptTemplate.from_messages(\n",
    "    [\n",
    "        (\n",
    "            \"system\",\n",
    "            \"You are a helpful assistant who answers only based on its {context}\",\n",
    "        ),\n",
    "        MessagesPlaceholder(variable_name=\"chat_history\"),\n",
    "        (\"user\", \"{question}\"),\n",
    "    ]\n",
    ")\n",
    "\n",
    "chain = (RunnableParallel(\n",
    "    {\"context\": itemgetter(\"question\") | retriever,\n",
    "     'question': RunnablePassthrough(),\n",
    "     \"chat_history\": lambda x: x.get('chat_history')\n",
    "     }\n",
    "    ) | prompt | {'out_put': llm.with_config(temprature=0.2) | StrOutputParser()})"
   ]
  },
  {
   "cell_type": "code",
   "execution_count": 13,
   "metadata": {},
   "outputs": [],
   "source": [
    "response = chain.invoke({'question': \"what is bts\", 'chat_history':[]})\n"
   ]
  },
  {
   "cell_type": "code",
   "execution_count": 16,
   "metadata": {},
   "outputs": [
    {
     "name": "stdout",
     "output_type": "stream",
     "text": [
      "BTS stands for Base Transceiver Station. It is a critical component of a mobile phone network that facilitates communication between mobile devices and the network. A BTS is essentially a radio transmitter/receiver that sends and receives signals to and from mobile phones in a specific area, known as a cell. It is usually installed on a tower or mast and is connected to the rest of the network via a backbone network. The BTS is responsible for transmitting and receiving voice and data signals, managing mobile phone connections, and handling handovers between different cells. In other words, it acts as a bridge between the mobile phone and the rest of the network, enabling mobile communication services such as voice calls, text messaging, and internet access.\n"
     ]
    }
   ],
   "source": [
    "print(response[\"out_put\"])"
   ]
  }
 ],
 "metadata": {
  "kernelspec": {
   "display_name": "genai",
   "language": "python",
   "name": "python3"
  },
  "language_info": {
   "codemirror_mode": {
    "name": "ipython",
    "version": 3
   },
   "file_extension": ".py",
   "mimetype": "text/x-python",
   "name": "python",
   "nbconvert_exporter": "python",
   "pygments_lexer": "ipython3",
   "version": "3.10.16"
  }
 },
 "nbformat": 4,
 "nbformat_minor": 2
}
